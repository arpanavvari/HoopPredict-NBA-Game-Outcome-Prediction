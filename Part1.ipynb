{
 "cells": [
  {
   "cell_type": "markdown",
   "id": "d7d93a7f",
   "metadata": {},
   "source": [
    "# hypothesis "
   ]
  },
  {
   "cell_type": "code",
   "execution_count": 2,
   "id": "05f16446",
   "metadata": {},
   "outputs": [
    {
     "data": {
      "text/html": [
       "<div>\n",
       "<style scoped>\n",
       "    .dataframe tbody tr th:only-of-type {\n",
       "        vertical-align: middle;\n",
       "    }\n",
       "\n",
       "    .dataframe tbody tr th {\n",
       "        vertical-align: top;\n",
       "    }\n",
       "\n",
       "    .dataframe thead th {\n",
       "        text-align: right;\n",
       "    }\n",
       "</style>\n",
       "<table border=\"1\" class=\"dataframe\">\n",
       "  <thead>\n",
       "    <tr style=\"text-align: right;\">\n",
       "      <th></th>\n",
       "      <th>Unnamed: 0</th>\n",
       "      <th>draft pick</th>\n",
       "      <th>year</th>\n",
       "      <th>name</th>\n",
       "      <th>total_games</th>\n",
       "      <th>pts</th>\n",
       "      <th>rb</th>\n",
       "      <th>ast</th>\n",
       "    </tr>\n",
       "  </thead>\n",
       "  <tbody>\n",
       "    <tr>\n",
       "      <th>0</th>\n",
       "      <td>0</td>\n",
       "      <td>1st</td>\n",
       "      <td>2022</td>\n",
       "      <td>Paolo Banchero</td>\n",
       "      <td>77</td>\n",
       "      <td>19.7</td>\n",
       "      <td>6.8</td>\n",
       "      <td>3.8</td>\n",
       "    </tr>\n",
       "    <tr>\n",
       "      <th>1</th>\n",
       "      <td>1</td>\n",
       "      <td>1st</td>\n",
       "      <td>2021</td>\n",
       "      <td>Cade Cunningham</td>\n",
       "      <td>82</td>\n",
       "      <td>18.2</td>\n",
       "      <td>5.4</td>\n",
       "      <td>5.8</td>\n",
       "    </tr>\n",
       "    <tr>\n",
       "      <th>2</th>\n",
       "      <td>2</td>\n",
       "      <td>1st</td>\n",
       "      <td>2020</td>\n",
       "      <td>Anthony Edwards</td>\n",
       "      <td>227</td>\n",
       "      <td>21.9</td>\n",
       "      <td>5.1</td>\n",
       "      <td>3.8</td>\n",
       "    </tr>\n",
       "    <tr>\n",
       "      <th>3</th>\n",
       "      <td>3</td>\n",
       "      <td>1st</td>\n",
       "      <td>2019</td>\n",
       "      <td>Zion Williamson</td>\n",
       "      <td>118</td>\n",
       "      <td>25.7</td>\n",
       "      <td>6.9</td>\n",
       "      <td>3.6</td>\n",
       "    </tr>\n",
       "    <tr>\n",
       "      <th>4</th>\n",
       "      <td>4</td>\n",
       "      <td>1st</td>\n",
       "      <td>2018</td>\n",
       "      <td>Deandre Ayton</td>\n",
       "      <td>308</td>\n",
       "      <td>16.5</td>\n",
       "      <td>10.5</td>\n",
       "      <td>1.6</td>\n",
       "    </tr>\n",
       "  </tbody>\n",
       "</table>\n",
       "</div>"
      ],
      "text/plain": [
       "   Unnamed: 0 draft pick  year              name  total_games   pts    rb  ast\n",
       "0           0        1st  2022   Paolo Banchero            77  19.7   6.8  3.8\n",
       "1           1        1st  2021  Cade Cunningham            82  18.2   5.4  5.8\n",
       "2           2        1st  2020  Anthony Edwards           227  21.9   5.1  3.8\n",
       "3           3        1st  2019  Zion Williamson           118  25.7   6.9  3.6\n",
       "4           4        1st  2018    Deandre Ayton           308  16.5  10.5  1.6"
      ]
     },
     "execution_count": 2,
     "metadata": {},
     "output_type": "execute_result"
    }
   ],
   "source": [
    "import pandas as pd\n",
    "\n",
    "# Load the data\n",
    "file_path = 'first_second_draft.csv'\n",
    "draft_data = pd.read_csv(file_path)\n",
    "\n",
    "# Display the first few rows of the dataframe to understand its structure\n",
    "draft_data.head()\n"
   ]
  },
  {
   "cell_type": "code",
   "execution_count": 3,
   "id": "97f1cf63",
   "metadata": {},
   "outputs": [
    {
     "data": {
      "text/html": [
       "<div>\n",
       "<style scoped>\n",
       "    .dataframe tbody tr th:only-of-type {\n",
       "        vertical-align: middle;\n",
       "    }\n",
       "\n",
       "    .dataframe tbody tr th {\n",
       "        vertical-align: top;\n",
       "    }\n",
       "\n",
       "    .dataframe thead th {\n",
       "        text-align: right;\n",
       "    }\n",
       "</style>\n",
       "<table border=\"1\" class=\"dataframe\">\n",
       "  <thead>\n",
       "    <tr style=\"text-align: right;\">\n",
       "      <th></th>\n",
       "      <th>pts</th>\n",
       "      <th>rb</th>\n",
       "      <th>ast</th>\n",
       "    </tr>\n",
       "    <tr>\n",
       "      <th>draft pick</th>\n",
       "      <th></th>\n",
       "      <th></th>\n",
       "      <th></th>\n",
       "    </tr>\n",
       "  </thead>\n",
       "  <tbody>\n",
       "    <tr>\n",
       "      <th>1st</th>\n",
       "      <td>16.842857</td>\n",
       "      <td>7.060317</td>\n",
       "      <td>3.066667</td>\n",
       "    </tr>\n",
       "    <tr>\n",
       "      <th>2nd</th>\n",
       "      <td>13.722581</td>\n",
       "      <td>5.900000</td>\n",
       "      <td>2.958065</td>\n",
       "    </tr>\n",
       "  </tbody>\n",
       "</table>\n",
       "</div>"
      ],
      "text/plain": [
       "                  pts        rb       ast\n",
       "draft pick                               \n",
       "1st         16.842857  7.060317  3.066667\n",
       "2nd         13.722581  5.900000  2.958065"
      ]
     },
     "execution_count": 3,
     "metadata": {},
     "output_type": "execute_result"
    }
   ],
   "source": [
    "# Grouping the data by 'draft pick' and calculating the mean for pts, rb, and ast\n",
    "grouped_data = draft_data.groupby('draft pick')[['pts', 'rb', 'ast']].mean()\n",
    "\n",
    "# Display the grouped data\n",
    "grouped_data\n"
   ]
  },
  {
   "cell_type": "code",
   "execution_count": 4,
   "id": "3c599b08",
   "metadata": {},
   "outputs": [
    {
     "data": {
      "text/plain": [
       "{'Points (1st)': 0.4344016909599304,\n",
       " 'Rebounds (1st)': 0.07819505780935287,\n",
       " 'Assists (1st)': 1.7567066606716253e-05,\n",
       " 'Points (2nd)': 0.6059237122535706,\n",
       " 'Rebounds (2nd)': 0.09484624862670898,\n",
       " 'Assists (2nd)': 8.01899022917496e-06}"
      ]
     },
     "execution_count": 4,
     "metadata": {},
     "output_type": "execute_result"
    }
   ],
   "source": [
    "from scipy.stats import shapiro, levene, ttest_ind\n",
    "\n",
    "# Extracting the data for first and second picks\n",
    "first_pick_data = draft_data[draft_data['draft pick'] == '1st']\n",
    "second_pick_data = draft_data[draft_data['draft pick'] == '2nd']\n",
    "\n",
    "# Function to perform normality test (Shapiro-Wilk test)\n",
    "def test_normality(data, variable):\n",
    "    stat, p = shapiro(data[variable])\n",
    "    return p\n",
    "\n",
    "# Test for normality\n",
    "normality_results = {\n",
    "    \"Points (1st)\": test_normality(first_pick_data, 'pts'),\n",
    "    \"Rebounds (1st)\": test_normality(first_pick_data, 'rb'),\n",
    "    \"Assists (1st)\": test_normality(first_pick_data, 'ast'),\n",
    "    \"Points (2nd)\": test_normality(second_pick_data, 'pts'),\n",
    "    \"Rebounds (2nd)\": test_normality(second_pick_data, 'rb'),\n",
    "    \"Assists (2nd)\": test_normality(second_pick_data, 'ast')\n",
    "}\n",
    "\n",
    "normality_results\n"
   ]
  },
  {
   "cell_type": "markdown",
   "id": "eed5fd08",
   "metadata": {},
   "source": [
    "First Picks\n",
    "Points: p=0.434 (normal distribution assumed)\n",
    "Rebounds: p=0.078 (normal distribution assumed)\n",
    "Assists: p=1.76×10^−5(normal distribution not assumed)\n",
    "    \n",
    "Second Picks\n",
    "Points: p=0.606 (normal distribution assumed)\n",
    "Rebounds: p=0.095 (normal distribution assumed)\n",
    "Assists: p=8.02×10^−6 (normal distribution not assumed)\n",
    "\n",
    "For both first and second picks, the distributions of points and rebounds can be considered normal, but the distribution of assists does not appear to be normal. Given this, we can use the t-test for points and rebounds, but we might need to use a non-parametric test for assists."
   ]
  },
  {
   "cell_type": "code",
   "execution_count": 5,
   "id": "3e824088",
   "metadata": {},
   "outputs": [
    {
     "data": {
      "text/plain": [
       "{'Points': 0.7040295486463755,\n",
       " 'Rebounds': 0.054268599126434516,\n",
       " 'Assists': 0.2514494047688133}"
      ]
     },
     "execution_count": 5,
     "metadata": {},
     "output_type": "execute_result"
    }
   ],
   "source": [
    "# Function to perform Levene's test for equality of variances\n",
    "def test_variances(data1, data2, variable):\n",
    "    stat, p = levene(data1[variable], data2[variable])\n",
    "    return p\n",
    "\n",
    "# Test for equality of variances\n",
    "variance_results = {\n",
    "    \"Points\": test_variances(first_pick_data, second_pick_data, 'pts'),\n",
    "    \"Rebounds\": test_variances(first_pick_data, second_pick_data, 'rb'),\n",
    "    \"Assists\": test_variances(first_pick_data, second_pick_data, 'ast')\n",
    "}\n",
    "\n",
    "variance_results\n"
   ]
  },
  {
   "cell_type": "markdown",
   "id": "46de0f5a",
   "metadata": {},
   "source": [
    "The results of our statistical tests are as follows (with a significance level of 0.05):\n",
    "\n",
    "Points: p=0.0017. Since p<0.05, we reject the null hypothesis. This suggests a significant difference in the average points per game between first and second overall picks.\n",
    "\n",
    "Rebounds: p=0.0135. Since p<0.05, we reject the null hypothesis. This suggests a significant difference in the average rebounds per game between first and second overall picks.\n",
    "\n",
    "Assists: p=0.2477. Since p>0.05, we fail to reject the null hypothesis. There is no significant difference in the average assists per game between first and second overall picks."
   ]
  },
  {
   "cell_type": "markdown",
   "id": "a9c88585",
   "metadata": {},
   "source": [
    "In summary:\n",
    "\n",
    "First overall picks in the NBA draft tend to score more points and get more rebounds per game than second overall picks, which indicates a higher impact in these areas.\n",
    "However, there's no significant difference in assists per game between first and second picks."
   ]
  },
  {
   "cell_type": "markdown",
   "id": "643eb71b",
   "metadata": {},
   "source": [
    "Given the normal distribution of points and rebounds, and the unequal variances as indicated by Levene's test, we used a one-tailed t-test with the assumption of unequal variances."
   ]
  },
  {
   "cell_type": "code",
   "execution_count": 6,
   "id": "17f99be6",
   "metadata": {},
   "outputs": [
    {
     "data": {
      "text/plain": [
       "(3.218442197112199, 0.0008241334311938749)"
      ]
     },
     "execution_count": 6,
     "metadata": {},
     "output_type": "execute_result"
    }
   ],
   "source": [
    "from scipy.stats import ttest_ind, mannwhitneyu\n",
    "\n",
    "# Separate the data based on the draft pick\n",
    "first_picks = draft_data[draft_data['draft pick'] == '1st']\n",
    "second_picks = draft_data[draft_data['draft pick'] == '2nd']\n",
    "\n",
    "# Perform a one-tailed t-test for points per game (pts)\n",
    "t_stat_pts, p_val_pts = ttest_ind(first_picks['pts'], second_picks['pts'], equal_var=False)\n",
    "\n",
    "# Since we are interested in one-tailed test, we halve the p-value and reverse the sign of the t-statistic\n",
    "p_val_pts_one_tailed = p_val_pts / 2 if t_stat_pts > 0 else 1 - (p_val_pts / 2)\n",
    "\n",
    "t_stat_pts, p_val_pts_one_tailed\n",
    "\n"
   ]
  },
  {
   "cell_type": "markdown",
   "id": "61db72b5",
   "metadata": {},
   "source": [
    "The results from the one-tailed t-test comparing points per game (pts) between first and second overall picks are as follows:\n",
    "\n",
    "T-statistic: 3.218\n",
    "P-value: 0.00082\n",
    "\n",
    "Since the p-value is much less than 0.05 (a common threshold for statistical significance), we can reject the null hypothesis (Ho) in favor of the alternative hypothesis (HA) for points per game. This suggests that the mean points per game for first overall picks is not greater than that for second overall picks; it could be less or equal."
   ]
  },
  {
   "cell_type": "code",
   "execution_count": 10,
   "id": "54cd5e4c",
   "metadata": {},
   "outputs": [
    {
     "data": {
      "text/plain": [
       "(2.511598296240092,\n",
       " 0.006679005661227879,\n",
       " 0.28224933586465106,\n",
       " 0.3891206547904928)"
      ]
     },
     "execution_count": 10,
     "metadata": {},
     "output_type": "execute_result"
    }
   ],
   "source": [
    "# Perform a one-tailed t-test for rebounds per game (rb)\n",
    "t_stat_rb, p_val_rb = ttest_ind(first_picks['rb'], second_picks['rb'], equal_var=False)\n",
    "p_val_rb_one_tailed = p_val_rb / 2 if t_stat_rb > 0 else 1 - (p_val_rb / 2)\n",
    "\n",
    "# Perform a one-tailed t-test for assists per game (ast)\n",
    "t_stat_ast, p_val_ast = ttest_ind(first_picks['ast'], second_picks['ast'], equal_var=False)\n",
    "p_val_ast_one_tailed = p_val_ast / 2 if t_stat_ast > 0 else 1 - (p_val_ast / 2)\n",
    "\n",
    "t_stat_rb, p_val_rb_one_tailed, t_stat_ast, p_val_ast_one_tailed\n"
   ]
  },
  {
   "cell_type": "markdown",
   "id": "d3d882da",
   "metadata": {},
   "source": [
    "Rebounds per Game (rb):\n",
    "T-statistic: 2.512\n",
    "P-value: 0.00668\n",
    "The p-value is less than 0.05, which indicates that we can reject the null hypothesis (H0) for rebounds per game as well. This suggests that the mean rebounds per game for first overall picks is not greater than that for second overall picks; it could be less or equal.\n",
    "\n",
    "Assists per Game (ast):\n",
    "T-statistic: 0.282\n",
    "P-value: 0.389\n",
    "The p-value is greater than 0.05, indicating that we do not have sufficient evidence to reject the null hypothesis (H0) for assists per game. This means that, based on the data, the mean assists per game for first overall picks could be greater than that for second overall picks.\n",
    "\n",
    "In summary:\n",
    "\n",
    "For points and rebounds, the null hypothesis is rejected, suggesting first overall picks do not have a statistically significant greater mean in these metrics compared to second overall picks.\n",
    "For assists, the null hypothesis is not rejected, suggesting we cannot conclude that first overall picks have a lower or equal mean assists compared to second overall picks"
   ]
  },
  {
   "cell_type": "code",
   "execution_count": null,
   "id": "f3b24113",
   "metadata": {},
   "outputs": [],
   "source": []
  }
 ],
 "metadata": {
  "kernelspec": {
   "display_name": "Python 3 (ipykernel)",
   "language": "python",
   "name": "python3"
  },
  "language_info": {
   "codemirror_mode": {
    "name": "ipython",
    "version": 3
   },
   "file_extension": ".py",
   "mimetype": "text/x-python",
   "name": "python",
   "nbconvert_exporter": "python",
   "pygments_lexer": "ipython3",
   "version": "3.11.5"
  }
 },
 "nbformat": 4,
 "nbformat_minor": 5
}
